{
 "cells": [
  {
   "cell_type": "markdown",
   "id": "3420575b-4d00-458b-aa0e-7030008ccd53",
   "metadata": {},
   "source": [
    "## Creating an index and populating it with documents using Milvus\n",
    "\n",
    "Simple example on how to ingest PDF documents, then web pages content into a Milvus VectorStore.\n",
    "\n",
    "Requirements:\n",
    "- A Milvus instance, either standalone or cluster.\n",
    "- Connection credentials to Milvus must be available as environment variables: MILVUS_USERNAME and MILVUS_PASSWORD"
   ]
  },
  {
   "cell_type": "markdown",
   "id": "8308b229-b520-4e82-a783-eb921bb955e7",
   "metadata": {},
   "source": [
    "### Needed packages and imports"
   ]
  },
  {
   "cell_type": "code",
   "execution_count": null,
   "id": "91e41b41-f60a-4b0f-91a1-cd273b60f21b",
   "metadata": {
    "scrolled": true,
    "tags": []
   },
   "outputs": [],
   "source": [
    "!pip install einops==0.7.0 langchain==0.1.9 pypdf==4.0.2 pymilvus==2.3.6 sentence-transformers==2.4.0"
   ]
  },
  {
   "cell_type": "code",
   "execution_count": null,
   "id": "600cd763-6ecc-4c77-89c0-47108c31c44e",
   "metadata": {
    "tags": []
   },
   "outputs": [],
   "source": [
    "import requests  # Used to download the PDF Documents\n",
    "import os # Used for OS Commands to create folders\n",
    "import shutil # Used to help delete folders\n",
    "\n",
    "# Langchain is used to help process the PDF data and upload it to the VectorDB\n",
    "from langchain.document_loaders import PyPDFDirectoryLoader, WebBaseLoader\n",
    "from langchain.text_splitter import RecursiveCharacterTextSplitter\n",
    "from langchain.embeddings.huggingface import HuggingFaceEmbeddings\n",
    "from langchain_community.vectorstores import Milvus\n",
    "from langchain_community.document_loaders import PyPDFLoader"
   ]
  },
  {
   "cell_type": "markdown",
   "id": "1a82063d-6153-4812-8977-042241736b53",
   "metadata": {},
   "source": [
    "### Base parameters, the Milvus connection info"
   ]
  },
  {
   "cell_type": "code",
   "execution_count": null,
   "id": "417ed4a4-9418-4f48-bebd-ef0ea11ae434",
   "metadata": {
    "tags": []
   },
   "outputs": [],
   "source": [
    "# Replace values according to your Milvus deployment\n",
    "MILVUS_HOST = \"vectordb-milvus\"\n",
    "MILVUS_PORT = 19530\n",
    "MILVUS_USERNAME = \"root\"\n",
    "MILVUS_PASSWORD = \"Milvus\"\n",
    "MILVUS_COLLECTION = \"state_driving_content\"\n",
    "\n",
    "# Set Variables to be used\n",
    "pdf_folder_path = f\"handbooks\" # What Fold\n",
    "pdfs = {\n",
    "    \"Missouri\": {\n",
    "        \"Drivers Guide\": \"https://dor.mo.gov/forms/Driver%20Guide.pdf\",\n",
    "    },\n",
    "    \"California\": {\n",
    "        \"Drivers Handbook\": \"https://www.dmv.ca.gov/portal/file/california-driver-handbook-pdf/\",\n",
    "    },\n",
    "}"
   ]
  },
  {
   "cell_type": "markdown",
   "id": "f68f6785-480e-4519-be4f-8e1738dba4ca",
   "metadata": {},
   "source": [
    "## Initial index creation and document ingestion"
   ]
  },
  {
   "cell_type": "markdown",
   "id": "f8cff5f7-c509-48db-90b5-e15815b8b530",
   "metadata": {},
   "source": [
    "#### Download and load pdfs"
   ]
  },
  {
   "cell_type": "code",
   "execution_count": null,
   "id": "bc4fe0db-f494-4cbd-9e97-8b6359a78cb7",
   "metadata": {
    "tags": []
   },
   "outputs": [],
   "source": [
    "# Cleanup Download Folder Location\n",
    "if os.path.exists(pdf_folder_path):\n",
    "    print(f\"Directory, '{pdf_folder_path}', exists Cleaning up\")\n",
    "    shutil.rmtree(pdf_folder_path)\n",
    "else:\n",
    "    print(\"Directory does not exist\")\n",
    "\n",
    "# Create Download Folder\n",
    "os.makedirs(pdf_folder_path)\n",
    "\n",
    "# Create an empty list to put the PDF Data into\n",
    "pdf_docs = []\n",
    "\n",
    "# Start Downloading and Processing the PDF Data locally.\n",
    "# Loop over each defined state\n",
    "for state,pdf_dict in pdfs.items():\n",
    "    # Loop over each URL Defined in the State\n",
    "    for name,url in pdf_dict.items():\n",
    "        # Create a variable for the PDF File Location\n",
    "        file_path = f\"{pdf_folder_path}/{state}-{name}.pdf\"\n",
    "        print(f\"Downloading URL: {url} to {file_path}\")\n",
    "\n",
    "        # Download the PDF File\n",
    "        response = requests.get(url)\n",
    "\n",
    "        # Open the PDF File and load it into memory\n",
    "        with open(file_path, 'wb') as f:\n",
    "            f.write(response.content)\n",
    "\n",
    "        # Process the PDF through Langchain's PDF Loader\n",
    "        # This chunks the data into a list of pages with metadata about the PDF.\n",
    "        loader = PyPDFLoader(file_path)\n",
    "        pdf_doc = loader.load()\n",
    "\n",
    "        # Loop through the chunked data and update the metadata\n",
    "        for doc in pdf_doc:\n",
    "            # Change the file path location to be the public URL of the PDF.\n",
    "            doc.metadata[\"source\"] = url\n",
    "            # Add the Metadata field state so that the content can be filtered based on the source State\n",
    "            doc.metadata[\"state\"] = state\n",
    "        # Append the list of pages processed to the larger list.\n",
    "        pdf_docs = pdf_doc + pdf_docs\n",
    "\n",
    "print(f\"Done Processing PDFs with a page count of {len(pdf_docs)}\")"
   ]
  },
  {
   "cell_type": "markdown",
   "id": "4198fe0a-38bf-4cd4-af7d-35b41c645edd",
   "metadata": {},
   "source": [
    "#### Split documents into chunks with some overlap"
   ]
  },
  {
   "cell_type": "code",
   "execution_count": null,
   "id": "edba4a08-2194-4df1-9091-6f2b596757a1",
   "metadata": {
    "tags": []
   },
   "outputs": [],
   "source": [
    "text_splitter = RecursiveCharacterTextSplitter(chunk_size=1024,\n",
    "                                               chunk_overlap=128)\n",
    "all_splits = text_splitter.split_documents(pdf_docs)"
   ]
  },
  {
   "cell_type": "markdown",
   "id": "7ae7eae2-c670-4eb5-803b-b4d591fa83db",
   "metadata": {},
   "source": [
    "#### Create the index and ingest the documents"
   ]
  },
  {
   "cell_type": "code",
   "execution_count": null,
   "id": "bbb6a3e3-5ccd-441e-b80d-427555d9e9f6",
   "metadata": {
    "tags": []
   },
   "outputs": [],
   "source": [
    "# If you don't want to use a GPU, you can remove the 'device': 'cuda' argument\n",
    "model_kwargs = {'device': 'cuda'}\n",
    "embeddings = HuggingFaceEmbeddings(\n",
    "    model_kwargs=model_kwargs,\n",
    "    show_progress=True\n",
    ")\n",
    "\n",
    "# BEWARE: `drop_old` is set to True, so if the collection already existed it will deleted first.\n",
    "db = Milvus(\n",
    "    embedding_function=embeddings,\n",
    "    connection_args={\"host\": MILVUS_HOST, \"port\": MILVUS_PORT, \"user\": MILVUS_USERNAME, \"password\": MILVUS_PASSWORD},\n",
    "    collection_name=MILVUS_COLLECTION,\n",
    "    collection_description=\"State Based DMV Data\",\n",
    "    metadata_field=\"metadata\",\n",
    "    #partition_key_field=\"state\",\n",
    "    #partition_names=[\"Missouri\", \"California\"],\n",
    "    index_params=True,\n",
    "    text_field=\"page_content\",\n",
    "    auto_id=True,\n",
    "    drop_old=True,\n",
    "    )"
   ]
  },
  {
   "cell_type": "code",
   "execution_count": null,
   "id": "b6bf425b-dffd-4f42-9537-49d41383182d",
   "metadata": {
    "scrolled": true,
    "tags": []
   },
   "outputs": [],
   "source": [
    "results = db.add_documents(all_splits)\n",
    "print(f\"Uploaded {len(results)} embeddings to the VectorDB\")"
   ]
  },
  {
   "cell_type": "markdown",
   "id": "b3f69ca5-f0ec-4675-8843-f265f237af61",
   "metadata": {},
   "source": [
    "#### Test query\n",
    "\n",
    "Run the below cell as is with Missouri as the state, and run it again replacing `Missouri` with `California`.\n",
    "\n",
    "You should notice the results differ between the two queries. This will be important to showcase how you can from an Application level switch the filters on a query to adjust which vectors are returned."
   ]
  },
  {
   "cell_type": "code",
   "execution_count": null,
   "id": "489c6e6d-c42c-4de4-87cf-8edfd0e63da3",
   "metadata": {
    "tags": []
   },
   "outputs": [],
   "source": [
    "# Set your Query and State\n",
    "query = \"What are the concequences of a DUI \"\n",
    "state = \"Missouri\"\n",
    "\n",
    "# Create the embeddings function\n",
    "embeddings_search = HuggingFaceEmbeddings(\n",
    "    model_kwargs={'device': 'cpu'},\n",
    "    show_progress=True\n",
    ")\n",
    "\n",
    "# Create the Milvus Object to Search\n",
    "db_search = Milvus(\n",
    "    embedding_function=embeddings_search,\n",
    "    connection_args={\"host\": MILVUS_HOST, \"port\": MILVUS_PORT, \"user\": MILVUS_USERNAME, \"password\": MILVUS_PASSWORD},\n",
    "    collection_name=MILVUS_COLLECTION,\n",
    "    metadata_field=\"metadata\",\n",
    "    text_field=\"page_content\"\n",
    "    )\n",
    "\n",
    "# Obtain the Retreiver Object that is used to perform the search,\n",
    "#   and give boundaries to the search. In our case limit to the\n",
    "#   State selected\n",
    "retriever = db_search.as_retriever(\n",
    "    search_kwargs = {\n",
    "        \"expr\": f'metadata[\"state\"] == \"{state}\"'\n",
    "    }\n",
    ")\n",
    "\n",
    "# Invoke the Query against the Milvus Database\n",
    "result = retriever.invoke(input=query)\n",
    "\n",
    "# Loop over the results and show the output\n",
    "for doc in result:\n",
    "    print(\"-\" * 20)\n",
    "    print(\"State: \", doc.metadata[\"state\"])\n",
    "    print(doc.page_content)"
   ]
  }
 ],
 "metadata": {
  "kernelspec": {
   "display_name": "Python 3 (ipykernel)",
   "language": "python",
   "name": "python3"
  },
  "language_info": {
   "codemirror_mode": {
    "name": "ipython",
    "version": 3
   },
   "file_extension": ".py",
   "mimetype": "text/x-python",
   "name": "python",
   "nbconvert_exporter": "python",
   "pygments_lexer": "ipython3",
   "version": "3.11.9"
  }
 },
 "nbformat": 4,
 "nbformat_minor": 5
}
